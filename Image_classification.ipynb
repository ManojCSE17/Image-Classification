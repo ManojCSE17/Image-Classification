{
 "cells": [
  {
   "cell_type": "markdown",
   "metadata": {},
   "source": [
    "# Sample Project using TensorFlow"
   ]
  },
  {
   "cell_type": "markdown",
   "metadata": {},
   "source": [
    "# Image Classification of Fashion MNIST dataset"
   ]
  },
  {
   "cell_type": "markdown",
   "metadata": {},
   "source": [
    "## Installing TensorFLow"
   ]
  },
  {
   "cell_type": "code",
   "execution_count": 2,
   "metadata": {
    "colab": {
     "base_uri": "https://localhost:8080/",
     "height": 637
    },
    "colab_type": "code",
    "executionInfo": {
     "elapsed": 47902,
     "status": "ok",
     "timestamp": 1584680903277,
     "user": {
      "displayName": "Manoj cse",
      "photoUrl": "https://lh3.googleusercontent.com/a-/AOh14Gg59GUprrUs84TJBkUj8sTI9yUaDYzqNnISXyMa=s64",
      "userId": "00450395587923822977"
     },
     "user_tz": -330
    },
    "id": "HZXSgehzVYkf",
    "outputId": "b03f3aff-8288-4436-83b8-9791f93ca637"
   },
   "outputs": [
    {
     "name": "stdout",
     "output_type": "stream",
     "text": [
      "Collecting tensorflow==2.0.0-beta1\n",
      "\u001b[?25l  Downloading https://files.pythonhosted.org/packages/29/6c/2c9a5c4d095c63c2fb37d20def0e4f92685f7aee9243d6aae25862694fd1/tensorflow-2.0.0b1-cp36-cp36m-manylinux1_x86_64.whl (87.9MB)\n",
      "\u001b[K     |████████████████████████████████| 87.9MB 65kB/s \n",
      "\u001b[?25hRequirement already satisfied: google-pasta>=0.1.6 in /usr/local/lib/python3.6/dist-packages (from tensorflow==2.0.0-beta1) (0.2.0)\n",
      "Requirement already satisfied: keras-preprocessing>=1.0.5 in /usr/local/lib/python3.6/dist-packages (from tensorflow==2.0.0-beta1) (1.1.0)\n",
      "Requirement already satisfied: protobuf>=3.6.1 in /usr/local/lib/python3.6/dist-packages (from tensorflow==2.0.0-beta1) (3.10.0)\n",
      "Requirement already satisfied: gast>=0.2.0 in /usr/local/lib/python3.6/dist-packages (from tensorflow==2.0.0-beta1) (0.2.2)\n",
      "Requirement already satisfied: absl-py>=0.7.0 in /usr/local/lib/python3.6/dist-packages (from tensorflow==2.0.0-beta1) (0.9.0)\n",
      "Requirement already satisfied: keras-applications>=1.0.6 in /usr/local/lib/python3.6/dist-packages (from tensorflow==2.0.0-beta1) (1.0.8)\n",
      "Requirement already satisfied: six>=1.10.0 in /usr/local/lib/python3.6/dist-packages (from tensorflow==2.0.0-beta1) (1.12.0)\n",
      "Requirement already satisfied: wheel>=0.26 in /usr/local/lib/python3.6/dist-packages (from tensorflow==2.0.0-beta1) (0.34.2)\n",
      "Requirement already satisfied: astor>=0.6.0 in /usr/local/lib/python3.6/dist-packages (from tensorflow==2.0.0-beta1) (0.8.1)\n",
      "Collecting tf-estimator-nightly<1.14.0.dev2019060502,>=1.14.0.dev2019060501\n",
      "\u001b[?25l  Downloading https://files.pythonhosted.org/packages/32/dd/99c47dd007dcf10d63fd895611b063732646f23059c618a373e85019eb0e/tf_estimator_nightly-1.14.0.dev2019060501-py2.py3-none-any.whl (496kB)\n",
      "\u001b[K     |████████████████████████████████| 501kB 44.9MB/s \n",
      "\u001b[?25hRequirement already satisfied: numpy<2.0,>=1.14.5 in /usr/local/lib/python3.6/dist-packages (from tensorflow==2.0.0-beta1) (1.18.2)\n",
      "Requirement already satisfied: grpcio>=1.8.6 in /usr/local/lib/python3.6/dist-packages (from tensorflow==2.0.0-beta1) (1.24.3)\n",
      "Requirement already satisfied: wrapt>=1.11.1 in /usr/local/lib/python3.6/dist-packages (from tensorflow==2.0.0-beta1) (1.12.1)\n",
      "Collecting tb-nightly<1.14.0a20190604,>=1.14.0a20190603\n",
      "\u001b[?25l  Downloading https://files.pythonhosted.org/packages/a4/96/571b875cd81dda9d5dfa1422a4f9d749e67c0a8d4f4f0b33a4e5f5f35e27/tb_nightly-1.14.0a20190603-py3-none-any.whl (3.1MB)\n",
      "\u001b[K     |████████████████████████████████| 3.1MB 37.0MB/s \n",
      "\u001b[?25hRequirement already satisfied: termcolor>=1.1.0 in /usr/local/lib/python3.6/dist-packages (from tensorflow==2.0.0-beta1) (1.1.0)\n",
      "Requirement already satisfied: setuptools in /usr/local/lib/python3.6/dist-packages (from protobuf>=3.6.1->tensorflow==2.0.0-beta1) (46.0.0)\n",
      "Requirement already satisfied: h5py in /usr/local/lib/python3.6/dist-packages (from keras-applications>=1.0.6->tensorflow==2.0.0-beta1) (2.8.0)\n",
      "Requirement already satisfied: markdown>=2.6.8 in /usr/local/lib/python3.6/dist-packages (from tb-nightly<1.14.0a20190604,>=1.14.0a20190603->tensorflow==2.0.0-beta1) (3.2.1)\n",
      "Requirement already satisfied: werkzeug>=0.11.15 in /usr/local/lib/python3.6/dist-packages (from tb-nightly<1.14.0a20190604,>=1.14.0a20190603->tensorflow==2.0.0-beta1) (1.0.0)\n",
      "\u001b[31mERROR: tensorflow-federated 0.12.0 has requirement tensorflow~=2.1.0, but you'll have tensorflow 2.0.0b1 which is incompatible.\u001b[0m\n",
      "\u001b[31mERROR: tensorflow-federated 0.12.0 has requirement tensorflow-addons~=0.7.0, but you'll have tensorflow-addons 0.8.3 which is incompatible.\u001b[0m\n",
      "Installing collected packages: tf-estimator-nightly, tb-nightly, tensorflow\n",
      "  Found existing installation: tensorflow 1.15.0\n",
      "    Uninstalling tensorflow-1.15.0:\n",
      "      Successfully uninstalled tensorflow-1.15.0\n",
      "Successfully installed tb-nightly-1.14.0a20190603 tensorflow-2.1.0 tf-estimator-nightly-1.14.0.dev2019060501\n"
     ]
    }
   ],
   "source": [
    "!pip install tensorflow==2.0.0-beta1"
   ]
  },
  {
   "cell_type": "markdown",
   "metadata": {},
   "source": [
    "## Importing Necessary Libraries"
   ]
  },
  {
   "cell_type": "code",
   "execution_count": 3,
   "metadata": {
    "colab": {
     "base_uri": "https://localhost:8080/",
     "height": 35
    },
    "colab_type": "code",
    "executionInfo": {
     "elapsed": 1030,
     "status": "ok",
     "timestamp": 1584681011303,
     "user": {
      "displayName": "Manoj cse",
      "photoUrl": "https://lh3.googleusercontent.com/a-/AOh14Gg59GUprrUs84TJBkUj8sTI9yUaDYzqNnISXyMa=s64",
      "userId": "00450395587923822977"
     },
     "user_tz": -330
    },
    "id": "--JMvJ98VwQ1",
    "outputId": "7df8a927-074c-4f13-863a-daa84abc66fc"
   },
   "outputs": [
    {
     "name": "stdout",
     "output_type": "stream",
     "text": [
      "2.0.0-beta1\n"
     ]
    }
   ],
   "source": [
    "from __future__ import absolute_import,division,print_function,unicode_literals\n",
    "\n",
    "#Tensor Flow and keras library\n",
    "import tensorflow as tf\n",
    "from tensorflow import keras\n",
    "\n",
    "#Helping libraries\n",
    "import numpy as np\n",
    "import matplotlib.pyplot as plt\n",
    "\n",
    "print(tf.__version__) "
   ]
  },
  {
   "cell_type": "markdown",
   "metadata": {},
   "source": [
    "## Importing Fashion MNIST dataset"
   ]
  },
  {
   "cell_type": "code",
   "execution_count": 5,
   "metadata": {
    "colab": {
     "base_uri": "https://localhost:8080/",
     "height": 162
    },
    "colab_type": "code",
    "executionInfo": {
     "elapsed": 1646,
     "status": "ok",
     "timestamp": 1584681237737,
     "user": {
      "displayName": "Manoj cse",
      "photoUrl": "https://lh3.googleusercontent.com/a-/AOh14Gg59GUprrUs84TJBkUj8sTI9yUaDYzqNnISXyMa=s64",
      "userId": "00450395587923822977"
     },
     "user_tz": -330
    },
    "id": "T0jArpwfWVfk",
    "outputId": "425bd1ae-3aea-43be-cde3-a8e4717b5c3a"
   },
   "outputs": [
    {
     "name": "stdout",
     "output_type": "stream",
     "text": [
      "Downloading data from https://storage.googleapis.com/tensorflow/tf-keras-datasets/train-labels-idx1-ubyte.gz\n",
      "32768/29515 [=================================] - 0s 0us/step\n",
      "Downloading data from https://storage.googleapis.com/tensorflow/tf-keras-datasets/train-images-idx3-ubyte.gz\n",
      "26427392/26421880 [==============================] - 0s 0us/step\n",
      "Downloading data from https://storage.googleapis.com/tensorflow/tf-keras-datasets/t10k-labels-idx1-ubyte.gz\n",
      "8192/5148 [===============================================] - 0s 0us/step\n",
      "Downloading data from https://storage.googleapis.com/tensorflow/tf-keras-datasets/t10k-images-idx3-ubyte.gz\n",
      "4423680/4422102 [==============================] - 0s 0us/step\n"
     ]
    }
   ],
   "source": [
    "fashion_dataset = keras.datasets.fashion_mnist\n",
    "(train_images, train_labels), (test_images, test_labels) = fashion_dataset.load_data()"
   ]
  },
  {
   "cell_type": "markdown",
   "metadata": {},
   "source": [
    "## Explore the data"
   ]
  },
  {
   "cell_type": "code",
   "execution_count": 7,
   "metadata": {
    "colab": {
     "base_uri": "https://localhost:8080/",
     "height": 907
    },
    "colab_type": "code",
    "executionInfo": {
     "elapsed": 1060,
     "status": "ok",
     "timestamp": 1584681268029,
     "user": {
      "displayName": "Manoj cse",
      "photoUrl": "https://lh3.googleusercontent.com/a-/AOh14Gg59GUprrUs84TJBkUj8sTI9yUaDYzqNnISXyMa=s64",
      "userId": "00450395587923822977"
     },
     "user_tz": -330
    },
    "id": "IB9RZGnyXM8h",
    "outputId": "102c126f-5125-4b79-b0c2-23b600a2280a"
   },
   "outputs": [
    {
     "name": "stdout",
     "output_type": "stream",
     "text": [
      "[[[0 0 0 ... 0 0 0]\n",
      "  [0 0 0 ... 0 0 0]\n",
      "  [0 0 0 ... 0 0 0]\n",
      "  ...\n",
      "  [0 0 0 ... 0 0 0]\n",
      "  [0 0 0 ... 0 0 0]\n",
      "  [0 0 0 ... 0 0 0]]\n",
      "\n",
      " [[0 0 0 ... 0 0 0]\n",
      "  [0 0 0 ... 0 0 0]\n",
      "  [0 0 0 ... 0 0 0]\n",
      "  ...\n",
      "  [0 0 0 ... 0 0 0]\n",
      "  [0 0 0 ... 0 0 0]\n",
      "  [0 0 0 ... 0 0 0]]\n",
      "\n",
      " [[0 0 0 ... 0 0 0]\n",
      "  [0 0 0 ... 0 0 0]\n",
      "  [0 0 0 ... 0 0 0]\n",
      "  ...\n",
      "  [0 0 0 ... 0 0 0]\n",
      "  [0 0 0 ... 0 0 0]\n",
      "  [0 0 0 ... 0 0 0]]\n",
      "\n",
      " ...\n",
      "\n",
      " [[0 0 0 ... 0 0 0]\n",
      "  [0 0 0 ... 0 0 0]\n",
      "  [0 0 0 ... 0 0 0]\n",
      "  ...\n",
      "  [0 0 0 ... 0 0 0]\n",
      "  [0 0 0 ... 0 0 0]\n",
      "  [0 0 0 ... 0 0 0]]\n",
      "\n",
      " [[0 0 0 ... 0 0 0]\n",
      "  [0 0 0 ... 0 0 0]\n",
      "  [0 0 0 ... 0 0 0]\n",
      "  ...\n",
      "  [0 0 0 ... 0 0 0]\n",
      "  [0 0 0 ... 0 0 0]\n",
      "  [0 0 0 ... 0 0 0]]\n",
      "\n",
      " [[0 0 0 ... 0 0 0]\n",
      "  [0 0 0 ... 0 0 0]\n",
      "  [0 0 0 ... 0 0 0]\n",
      "  ...\n",
      "  [0 0 0 ... 0 0 0]\n",
      "  [0 0 0 ... 0 0 0]\n",
      "  [0 0 0 ... 0 0 0]]]\n"
     ]
    }
   ],
   "source": [
    "print(test_images)"
   ]
  },
  {
   "cell_type": "code",
   "execution_count": 0,
   "metadata": {
    "colab": {},
    "colab_type": "code",
    "id": "PAXCALFjX8Hd"
   },
   "outputs": [],
   "source": [
    "class_names = ['T-shirt/top', 'Trouser', 'Pullover', 'Dress', 'Coat',\n",
    "               'Sandal', 'Shirt', 'Sneaker', 'Bag', 'Ankle boot']"
   ]
  },
  {
   "cell_type": "code",
   "execution_count": 14,
   "metadata": {
    "colab": {
     "base_uri": "https://localhost:8080/",
     "height": 53
    },
    "colab_type": "code",
    "executionInfo": {
     "elapsed": 1241,
     "status": "ok",
     "timestamp": 1584681571944,
     "user": {
      "displayName": "Manoj cse",
      "photoUrl": "https://lh3.googleusercontent.com/a-/AOh14Gg59GUprrUs84TJBkUj8sTI9yUaDYzqNnISXyMa=s64",
      "userId": "00450395587923822977"
     },
     "user_tz": -330
    },
    "id": "YYd15gcqX-D0",
    "outputId": "8ce8e807-838c-42a5-9928-97a9b9328b49"
   },
   "outputs": [
    {
     "name": "stdout",
     "output_type": "stream",
     "text": [
      "(60000, 28, 28)\n"
     ]
    },
    {
     "data": {
      "text/plain": [
       "60000"
      ]
     },
     "execution_count": 14,
     "metadata": {
      "tags": []
     },
     "output_type": "execute_result"
    }
   ],
   "source": [
    "print(train_images.shape)\n",
    "len(train_labels)"
   ]
  },
  {
   "cell_type": "code",
   "execution_count": 15,
   "metadata": {
    "colab": {
     "base_uri": "https://localhost:8080/",
     "height": 53
    },
    "colab_type": "code",
    "executionInfo": {
     "elapsed": 981,
     "status": "ok",
     "timestamp": 1584681574334,
     "user": {
      "displayName": "Manoj cse",
      "photoUrl": "https://lh3.googleusercontent.com/a-/AOh14Gg59GUprrUs84TJBkUj8sTI9yUaDYzqNnISXyMa=s64",
      "userId": "00450395587923822977"
     },
     "user_tz": -330
    },
    "id": "48F70DCQYTfI",
    "outputId": "f4b2dddf-c2ad-4f1b-b20e-14bcee2254bf"
   },
   "outputs": [
    {
     "name": "stdout",
     "output_type": "stream",
     "text": [
      "(10000, 28, 28)\n"
     ]
    },
    {
     "data": {
      "text/plain": [
       "10000"
      ]
     },
     "execution_count": 15,
     "metadata": {
      "tags": []
     },
     "output_type": "execute_result"
    }
   ],
   "source": [
    "print(test_images.shape)\n",
    "len(test_labels)"
   ]
  },
  {
   "cell_type": "markdown",
   "metadata": {},
   "source": [
    "## Preprocess the data"
   ]
  },
  {
   "cell_type": "code",
   "execution_count": 23,
   "metadata": {
    "colab": {
     "base_uri": "https://localhost:8080/",
     "height": 269
    },
    "colab_type": "code",
    "executionInfo": {
     "elapsed": 1467,
     "status": "ok",
     "timestamp": 1584682040010,
     "user": {
      "displayName": "Manoj cse",
      "photoUrl": "https://lh3.googleusercontent.com/a-/AOh14Gg59GUprrUs84TJBkUj8sTI9yUaDYzqNnISXyMa=s64",
      "userId": "00450395587923822977"
     },
     "user_tz": -330
    },
    "id": "08dH0_fZYei3",
    "outputId": "fea7b16e-da6d-4639-d892-ffa4da446e65"
   },
   "outputs": [
    {
     "data": {
      "image/png": "[encoded data removed]",
      "text/plain": [
       "<Figure size 432x288 with 2 Axes>"
      ]
     },
     "metadata": {
      "tags": []
     },
     "output_type": "display_data"
    }
   ],
   "source": [
    "plt.imshow(train_images[0],cmap=plt.cm.binary)\n",
    "plt.colorbar()\n",
    "plt.show()"
   ]
  },
  {
   "cell_type": "code",
   "execution_count": 0,
   "metadata": {
    "colab": {},
    "colab_type": "code",
    "id": "zl3MNrx9Z6k2"
   },
   "outputs": [],
   "source": [
    "#Data normalization\n",
    "train_images = train_images / 255.0\n",
    "test_images = test_images / 255.0"
   ]
  },
  {
   "cell_type": "code",
   "execution_count": 25,
   "metadata": {
    "colab": {
     "base_uri": "https://localhost:8080/",
     "height": 269
    },
    "colab_type": "code",
    "executionInfo": {
     "elapsed": 1249,
     "status": "ok",
     "timestamp": 1584682142095,
     "user": {
      "displayName": "Manoj cse",
      "photoUrl": "https://lh3.googleusercontent.com/a-/AOh14Gg59GUprrUs84TJBkUj8sTI9yUaDYzqNnISXyMa=s64",
      "userId": "00450395587923822977"
     },
     "user_tz": -330
    },
    "id": "TvPPyVASaE6N",
    "outputId": "132771b8-71f5-4ee3-9b93-fa52e2f47332"
   },
   "outputs": [
    {
     "data": {
      "image/png": "[encoded data removed]",
      "text/plain": [
       "<Figure size 432x288 with 2 Axes>"
      ]
     },
     "metadata": {
      "tags": []
     },
     "output_type": "display_data"
    }
   ],
   "source": [
    "# After data normalization \n",
    "plt.imshow(train_images[0],cmap='gray')\n",
    "plt.colorbar()\n",
    "plt.show()"
   ]
  },
  {
   "cell_type": "markdown",
   "metadata": {},
   "source": [
    "## Build the Model"
   ]
  },
  {
   "cell_type": "code",
   "execution_count": 0,
   "metadata": {
    "colab": {},
    "colab_type": "code",
    "id": "l0SGl0-ddCVA"
   },
   "outputs": [],
   "source": [
    "model = keras.Sequential([\n",
    "              keras.layers.Flatten(input_shape=(28,28)),\n",
    "              keras.layers.Dense(128,activation='relu'),\n",
    "              keras.layers.Dense(10,activation='softmax')\n",
    "])"
   ]
  },
  {
   "cell_type": "markdown",
   "metadata": {},
   "source": [
    "## Compile the Model"
   ]
  },
  {
   "cell_type": "code",
   "execution_count": 0,
   "metadata": {
    "colab": {},
    "colab_type": "code",
    "id": "qj2hc5cBdm2Z"
   },
   "outputs": [],
   "source": [
    "model.compile(optimizer='adam',\n",
    "              loss='sparse_categorical_crossentropy',\n",
    "              metrics=['accuracy'])"
   ]
  },
  {
   "cell_type": "markdown",
   "metadata": {},
   "source": [
    "## Training\n",
    "### Feed the Model"
   ]
  },
  {
   "cell_type": "code",
   "execution_count": 31,
   "metadata": {
    "colab": {
     "base_uri": "https://localhost:8080/",
     "height": 491
    },
    "colab_type": "code",
    "executionInfo": {
     "elapsed": 46823,
     "status": "ok",
     "timestamp": 1584683318488,
     "user": {
      "displayName": "Manoj cse",
      "photoUrl": "https://lh3.googleusercontent.com/a-/AOh14Gg59GUprrUs84TJBkUj8sTI9yUaDYzqNnISXyMa=s64",
      "userId": "00450395587923822977"
     },
     "user_tz": -330
    },
    "id": "UI0I7AfFew-h",
    "outputId": "2ad9f1dc-67e3-47eb-d806-15829a49562b"
   },
   "outputs": [
    {
     "name": "stdout",
     "output_type": "stream",
     "text": [
      "WARNING:tensorflow:From /usr/local/lib/python3.6/dist-packages/tensorflow/python/ops/math_grad.py:1250: add_dispatch_support.<locals>.wrapper (from tensorflow.python.ops.array_ops) is deprecated and will be removed in a future version.\n",
      "Instructions for updating:\n",
      "Use tf.where in 2.0, which has the same broadcast rule as np.where\n",
      "Train on 60000 samples\n",
      "Epoch 1/10\n",
      "60000/60000 [==============================] - 5s 81us/sample - loss: 0.4908 - accuracy: 0.8280\n",
      "Epoch 2/10\n",
      "60000/60000 [==============================] - 5s 76us/sample - loss: 0.3727 - accuracy: 0.8662\n",
      "Epoch 3/10\n",
      "60000/60000 [==============================] - 4s 75us/sample - loss: 0.3352 - accuracy: 0.8778\n",
      "Epoch 4/10\n",
      "60000/60000 [==============================] - 4s 74us/sample - loss: 0.3106 - accuracy: 0.8864\n",
      "Epoch 5/10\n",
      "60000/60000 [==============================] - 5s 75us/sample - loss: 0.2929 - accuracy: 0.8922\n",
      "Epoch 6/10\n",
      "60000/60000 [==============================] - 4s 75us/sample - loss: 0.2792 - accuracy: 0.8963\n",
      "Epoch 7/10\n",
      "60000/60000 [==============================] - 5s 76us/sample - loss: 0.2672 - accuracy: 0.9006\n",
      "Epoch 8/10\n",
      "60000/60000 [==============================] - 4s 69us/sample - loss: 0.2557 - accuracy: 0.9045\n",
      "Epoch 9/10\n",
      "60000/60000 [==============================] - 5s 75us/sample - loss: 0.2466 - accuracy: 0.9079\n",
      "Epoch 10/10\n",
      "60000/60000 [==============================] - 5s 83us/sample - loss: 0.2376 - accuracy: 0.9111\n"
     ]
    },
    {
     "data": {
      "text/plain": [
       "<tensorflow.python.keras.callbacks.History at 0x7f178943c940>"
      ]
     },
     "execution_count": 31,
     "metadata": {
      "tags": []
     },
     "output_type": "execute_result"
    }
   ],
   "source": [
    "model.fit(train_images,train_labels,epochs=10)"
   ]
  },
  {
   "cell_type": "markdown",
   "metadata": {},
   "source": [
    "## Testing\n",
    "### Evaluate accuracy"
   ]
  },
  {
   "cell_type": "code",
   "execution_count": 32,
   "metadata": {
    "colab": {
     "base_uri": "https://localhost:8080/",
     "height": 53
    },
    "colab_type": "code",
    "executionInfo": {
     "elapsed": 1436,
     "status": "ok",
     "timestamp": 1584683400334,
     "user": {
      "displayName": "Manoj cse",
      "photoUrl": "https://lh3.googleusercontent.com/a-/AOh14Gg59GUprrUs84TJBkUj8sTI9yUaDYzqNnISXyMa=s64",
      "userId": "00450395587923822977"
     },
     "user_tz": -330
    },
    "id": "hXcdwQCRfIUU",
    "outputId": "b0f49cf1-307f-4784-fb1a-c847bc166a95"
   },
   "outputs": [
    {
     "name": "stdout",
     "output_type": "stream",
     "text": [
      "10000/10000 [==============================] - 0s 38us/sample - loss: 0.3293 - accuracy: 0.8858\n",
      "0.8858\n"
     ]
    }
   ],
   "source": [
    "test_loss, test_accuracy = model.evaluate(test_images,test_labels)\n",
    "print(test_accuracy)"
   ]
  },
  {
   "cell_type": "markdown",
   "metadata": {},
   "source": [
    "### Prediction"
   ]
  },
  {
   "cell_type": "code",
   "execution_count": 34,
   "metadata": {
    "colab": {
     "base_uri": "https://localhost:8080/",
     "height": 72
    },
    "colab_type": "code",
    "executionInfo": {
     "elapsed": 1050,
     "status": "ok",
     "timestamp": 1584683985520,
     "user": {
      "displayName": "Manoj cse",
      "photoUrl": "https://lh3.googleusercontent.com/a-/AOh14Gg59GUprrUs84TJBkUj8sTI9yUaDYzqNnISXyMa=s64",
      "userId": "00450395587923822977"
     },
     "user_tz": -330
    },
    "id": "H0fhauBnhiIP",
    "outputId": "6491663a-f599-444b-a562-2304b9c9d5f8"
   },
   "outputs": [
    {
     "data": {
      "text/plain": [
       "array([3.5556384e-06, 5.8590036e-08, 1.2506009e-08, 3.4755730e-11,\n",
       "       6.0972468e-08, 5.3467706e-04, 8.3033896e-08, 8.1108147e-03,\n",
       "       1.8743259e-08, 9.9135077e-01], dtype=float32)"
      ]
     },
     "execution_count": 34,
     "metadata": {
      "tags": []
     },
     "output_type": "execute_result"
    }
   ],
   "source": [
    "prediction = model.predict(test_images)\n",
    "prediction[0]"
   ]
  },
  {
   "cell_type": "code",
   "execution_count": 36,
   "metadata": {
    "colab": {
     "base_uri": "https://localhost:8080/",
     "height": 35
    },
    "colab_type": "code",
    "executionInfo": {
     "elapsed": 1238,
     "status": "ok",
     "timestamp": 1584684002190,
     "user": {
      "displayName": "Manoj cse",
      "photoUrl": "https://lh3.googleusercontent.com/a-/AOh14Gg59GUprrUs84TJBkUj8sTI9yUaDYzqNnISXyMa=s64",
      "userId": "00450395587923822977"
     },
     "user_tz": -330
    },
    "id": "bmzFKtJMhodr",
    "outputId": "58b4f9ce-82df-4633-cdcd-63f098193c45"
   },
   "outputs": [
    {
     "data": {
      "text/plain": [
       "9"
      ]
     },
     "execution_count": 36,
     "metadata": {
      "tags": []
     },
     "output_type": "execute_result"
    }
   ],
   "source": [
    "np.argmax(prediction[0])"
   ]
  },
  {
   "cell_type": "code",
   "execution_count": 38,
   "metadata": {
    "colab": {
     "base_uri": "https://localhost:8080/",
     "height": 35
    },
    "colab_type": "code",
    "executionInfo": {
     "elapsed": 1031,
     "status": "ok",
     "timestamp": 1584684032103,
     "user": {
      "displayName": "Manoj cse",
      "photoUrl": "https://lh3.googleusercontent.com/a-/AOh14Gg59GUprrUs84TJBkUj8sTI9yUaDYzqNnISXyMa=s64",
      "userId": "00450395587923822977"
     },
     "user_tz": -330
    },
    "id": "6WeththbhvPR",
    "outputId": "bd39af96-f128-4d0d-d3a2-4b3b44b761c1"
   },
   "outputs": [
    {
     "data": {
      "text/plain": [
       "9"
      ]
     },
     "execution_count": 38,
     "metadata": {
      "tags": []
     },
     "output_type": "execute_result"
    }
   ],
   "source": [
    "test_labels[0]"
   ]
  },
  {
   "cell_type": "markdown",
   "metadata": {},
   "source": [
    "### Plot of prediction"
   ]
  },
  {
   "cell_type": "code",
   "execution_count": 41,
   "metadata": {
    "colab": {
     "base_uri": "https://localhost:8080/",
     "height": 265
    },
    "colab_type": "code",
    "executionInfo": {
     "elapsed": 2561,
     "status": "ok",
     "timestamp": 1584684451106,
     "user": {
      "displayName": "Manoj cse",
      "photoUrl": "https://lh3.googleusercontent.com/a-/AOh14Gg59GUprrUs84TJBkUj8sTI9yUaDYzqNnISXyMa=s64",
      "userId": "00450395587923822977"
     },
     "user_tz": -330
    },
    "id": "gn-PnE9ih2kt",
    "outputId": "e17445e7-2579-4383-b6ff-1cdafd305344"
   },
   "outputs": [
    {
     "data": {
      "image/png": "[encoded data removed]",
      "text/plain": [
       "<Figure size 432x288 with 1 Axes>"
      ]
     },
     "metadata": {
      "tags": []
     },
     "output_type": "display_data"
    }
   ],
   "source": [
    "plt.plot(prediction[3])\n",
    "plt.show()"
   ]
  }
 ],
 "metadata": {
  "colab": {
   "authorship_tag": "ABX9TyM0cJRKKcNxkHti2QhXOx2B",
   "collapsed_sections": [],
   "name": "Image_classification.ipynb",
   "provenance": []
  },
  "kernelspec": {
   "display_name": "Python 3",
   "language": "python",
   "name": "python3"
  },
  "language_info": {
   "codemirror_mode": {
    "name": "ipython",
    "version": 3
   },
   "file_extension": ".py",
   "mimetype": "text/x-python",
   "name": "python",
   "nbconvert_exporter": "python",
   "pygments_lexer": "ipython3",
   "version": "3.7.3"
  }
 },
 "nbformat": 4,
 "nbformat_minor": 1
}
